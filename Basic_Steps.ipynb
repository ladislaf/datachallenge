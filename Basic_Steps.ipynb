{
 "cells": [
  {
   "cell_type": "markdown",
   "metadata": {},
   "source": [
    "# Basic profiling of Datachallenge dataset."
   ]
  },
  {
   "cell_type": "markdown",
   "metadata": {},
   "source": [
    "## Intro: Import of dataset, sampling few thousand rows."
   ]
  },
  {
   "cell_type": "code",
   "execution_count": 24,
   "metadata": {
    "collapsed": false,
    "scrolled": true
   },
   "outputs": [
    {
     "name": "stdout",
     "output_type": "stream",
     "text": [
      "  carrier  fltno dep_apt arr_apt sched_departure_date  scheduled_departure  \\\n",
      "0      7I    773     CUR     MAO           2016-04-29  2016-04-29 20:50:00   \n",
      "1      AA   1361     PBI     PHL           2016-04-29  2016-04-29 15:55:00   \n",
      "2      AA    137     DFW     HKG           2016-04-29  2016-04-29 07:50:00   \n",
      "3      AA   4173     LGA     STL           2016-04-29  2016-04-29 17:10:00   \n",
      "4      AA   5202     GNV     CLT           2016-04-29  2016-04-29 17:50:00   \n",
      "5      AA   5633     PHX     TUS           2016-04-29  2016-04-29 17:20:00   \n",
      "6      AA   6159     MIA     LHR           2016-04-29  2016-04-29 17:05:00   \n",
      "7      AA   7163     LAX     NAN           2016-04-29  2016-04-29 23:30:00   \n",
      "8      AA   8936     LAX     HKG           2016-04-29  2016-04-29 23:55:00   \n",
      "9      AC     33     YVR     SYD           2016-04-29  2016-04-29 20:15:00   \n",
      "\n",
      "      actual_departure  \n",
      "0  2016-04-30 19:15:00  \n",
      "1  2016-04-30 08:21:00  \n",
      "2  2016-04-29 12:28:00  \n",
      "3  2016-04-29 16:58:00  \n",
      "4  2016-04-29 20:01:00  \n",
      "5  2016-04-29 21:31:00  \n",
      "6  2016-04-30 20:05:00  \n",
      "7  2016-04-29 22:27:00  \n",
      "8  2016-04-30 00:10:00  \n",
      "9  2016-04-29 23:40:00  \n"
     ]
    },
    {
     "data": {
      "text/plain": [
       "pandas.core.frame.DataFrame"
      ]
     },
     "execution_count": 24,
     "metadata": {},
     "output_type": "execute_result"
    }
   ],
   "source": [
    "%matplotlib inline\n",
    "import pandas as pd\n",
    "import time\n",
    "import numpy as np\n",
    "import matplotlib\n",
    "\n",
    "file_path = 'C:\\GIT\\Datachallenge\\delays_dataset.csv'\n",
    "file_opened = open(file_path,'r')\n",
    "file_opened_binary = open(file_path,'rb')\n",
    "\n",
    "#prints first 10 rows\n",
    "df = pd.read_csv(file_opened, nrows =10)\n",
    "print df\n",
    "type(df)"
   ]
  },
  {
   "cell_type": "markdown",
   "metadata": {},
   "source": [
    "## Counting of number of rows several ways:)"
   ]
  },
  {
   "cell_type": "code",
   "execution_count": 8,
   "metadata": {
    "collapsed": false
   },
   "outputs": [
    {
     "name": "stdout",
     "output_type": "stream",
     "text": [
      "#NONBINARY for i, line in enumerate(f, 1):\n",
      "('Elapsed time : ', 22.76900005340576)\n",
      "('count = ', 52624858)\n",
      "\n",
      "\n"
     ]
    }
   ],
   "source": [
    "#count of lines  file opened for read, non-binary\n",
    "print(\"#NONBINARY for i, line in enumerate(f, 1):\")\n",
    "t0 = time.time()\n",
    "count = 0\n",
    "with file_opened as f:\n",
    "    for i, line in enumerate(f, 1):\n",
    "        count += 1\n",
    "print('Elapsed time : ', time.time() - t0)\n",
    "print('count = ', count)\n",
    "print('\\n')\n",
    "#Result:\n",
    "# for i, line in enumerate(f, 1):\n",
    "#('Elapsed time : ', 20.73099994659424)\n",
    "#('count = ', 52624858)\n",
    "\n"
   ]
  },
  {
   "cell_type": "markdown",
   "metadata": {},
   "source": [
    "\n",
    "#count of lines / file opened for read, binary\n",
    "print(\"#BINARY for i, line in enumerate(f, 1):\")\n",
    "t0 = time.time()\n",
    "count = 0\n",
    "with file_opened_binary as f:\n",
    "    for i, line in enumerate(f, 1):\n",
    "        count += 1\n",
    "print('Elapsed time : ', time.time() - t0)\n",
    "print('count = ', count)\n",
    "print('\\n')\n",
    "\n",
    "#Result:\n",
    "#for i, line in enumerate(f, 1):\n",
    "#('Elapsed time : ', 17.961999893188477)\n",
    "#('count = ', 52628833)\n",
    "\n"
   ]
  },
  {
   "cell_type": "markdown",
   "metadata": {},
   "source": [
    "#SUM count of lines / file opened for read, binary\n",
    "\n",
    "t0 = time.time()\n",
    "count = sum((1 for i in open(file_path, 'rb')))\n",
    "print('Elapsed time : ', time.time() - t0)\n",
    "print('count = ', count)\n",
    "print('\\n')\n",
    "\n",
    "#('Elapsed time : ', 15.105999946594238)\n",
    "#('count = ', 52628833)"
   ]
  },
  {
   "cell_type": "code",
   "execution_count": 9,
   "metadata": {
    "collapsed": false
   },
   "outputs": [
    {
     "name": "stdout",
     "output_type": "stream",
     "text": [
      "file is closed\n"
     ]
    }
   ],
   "source": [
    "#LVL note:\n",
    "#code in cells above CLOSES the file!\n",
    "\n",
    "#check if file is opened:\n",
    "if file_opened.closed:\n",
    "  print 'file is closed'\n",
    "else:\n",
    "  print 'file is opened'\n"
   ]
  },
  {
   "cell_type": "markdown",
   "metadata": {},
   "source": [
    "## Data profiling (basic)"
   ]
  },
  {
   "cell_type": "markdown",
   "metadata": {},
   "source": [
    "Nacteni datasetu do dataframu pro pozdejsi zpracovani:"
   ]
  },
  {
   "cell_type": "code",
   "execution_count": 6,
   "metadata": {
    "collapsed": false,
    "scrolled": true
   },
   "outputs": [
    {
     "name": "stdout",
     "output_type": "stream",
     "text": [
      "('Elapsed time to read sched dep date: ', 32.401999950408936)\n"
     ]
    }
   ],
   "source": [
    "file_opened = open(file_path,'r')\n",
    "fields_all = ['carrier',  'fltno', 'dep_apt', 'arr_apt', 'sched_departure_date',  'scheduled_departure',  'actual_departure']\n",
    "fields_sched_departure_date = ['sched_departure_date']\n",
    "fields_airports = ['dep_apt', 'arr_apt']\n",
    "fields_carrier = ['carrier']\n",
    "fields_flight_number = ['fltno']\n",
    "\n",
    "\n",
    "pd_chunksize = 10 ** 6\n",
    "\n",
    "t0 = time.time()\n",
    "#df =   pd.read_csv(file_opened, nrows =10)\n",
    "df_departure_date = pd.read_csv(file_opened,usecols = fields_sched_departure_date)\n",
    "print('Elapsed time to read sched dep date: ', time.time() - t0)\n",
    "t0 = time.time()\n"
   ]
  },
  {
   "cell_type": "code",
   "execution_count": null,
   "metadata": {
    "collapsed": true
   },
   "outputs": [],
   "source": [
    "\n",
    "df_airports = pd.read_csv(file_opened,usecols = fields_airports)\n",
    "print('Elapsed time to read airports: ', time.time() - t0)\n",
    "t0 = time.time()\n",
    "\n",
    "df_carrier = pd.read_csv(file_opened,usecols = fields_carrier)\n",
    "print('Elapsed time to read carriers: ', time.time() - t0)\n",
    "t0 = time.time()\n",
    "\n",
    "df_flight_number = pd.read_csv(file_opened,usecols = fields_flight_number)\n",
    "print('Elapsed time to read flight number: ', time.time() - t0)\n",
    "t0 = time.time()\n",
    "\n",
    "#df_1 = pd.read_csv(file_opened, chunksize=pd_chunksize)\n",
    "type(df_1)\n",
    "#print df_1"
   ]
  },
  {
   "cell_type": "markdown",
   "metadata": {},
   "source": [
    "Min max datumy"
   ]
  },
  {
   "cell_type": "code",
   "execution_count": 11,
   "metadata": {
    "collapsed": false
   },
   "outputs": [
    {
     "name": "stdout",
     "output_type": "stream",
     "text": [
      "('Elapsed time to read airports: ', 37.63199996948242)\n"
     ]
    },
    {
     "data": {
      "text/plain": [
       "(52628832, 2)"
      ]
     },
     "execution_count": 11,
     "metadata": {},
     "output_type": "execute_result"
    }
   ],
   "source": [
    "file_opened = open(file_path,'r')\n",
    "fields_airports = ['dep_apt', 'arr_apt']\n",
    "\n",
    "t0 = time.time()\n",
    "\n",
    "df_airports = pd.read_csv(file_opened,usecols = fields_airports)\n",
    "print('Elapsed time to read airports: ', time.time() - t0)\n",
    "t0 = time.time()\n",
    "df_airports.shape"
   ]
  },
  {
   "cell_type": "code",
   "execution_count": 13,
   "metadata": {
    "collapsed": false
   },
   "outputs": [],
   "source": [
    "unique_arr_airports = np.sort(df_airports.arr_apt.unique())\n",
    "unique_dep_airports = np.sort(df_airports.dep_apt.unique())"
   ]
  },
  {
   "cell_type": "code",
   "execution_count": null,
   "metadata": {
    "collapsed": false
   },
   "outputs": [],
   "source": [
    "df_airports[['arr_apt','dep_apt']].sort()"
   ]
  },
  {
   "cell_type": "code",
   "execution_count": 14,
   "metadata": {
    "collapsed": false
   },
   "outputs": [
    {
     "name": "stdout",
     "output_type": "stream",
     "text": [
      "['AAE' 'AAL' 'AAN' ..., 'ZYL' 'ZYN' 'ZYR']\n",
      "2878\n",
      "['AAE' 'AAL' 'AAN' ..., 'ZYL' 'ZYN' 'ZYR']\n",
      "2995\n"
     ]
    }
   ],
   "source": [
    "# print all airport codes\n",
    "#for airport in unique_airports: print airport\n",
    "\n",
    "print unique_arr_airports\n",
    "print np.count_nonzero(unique_arr_airports) #2878\n",
    "print unique_dep_airports\n",
    "print np.count_nonzero(unique_dep_airports) #2995"
   ]
  },
  {
   "cell_type": "code",
   "execution_count": 17,
   "metadata": {
    "collapsed": false
   },
   "outputs": [
    {
     "name": "stdout",
     "output_type": "stream",
     "text": [
      "sched_departure_date    Min departure date in dataset is: 2016-04-29. \\n\n",
      "dtype: object\n",
      "sched_departure_date    Max departure date in dataset is: 2016-09-21. \\n\n",
      "dtype: object\n"
     ]
    }
   ],
   "source": [
    "#max_datum = max(pd_file_read.)\n",
    "\n",
    "#type(df_1.min)\n",
    "print('Min departure date in dataset is: '+ df_departure_date.min() + '. \\n')\n",
    "print('Max departure date in dataset is: '+ df_departure_date.max() + '. \\n')\n"
   ]
  },
  {
   "cell_type": "code",
   "execution_count": 21,
   "metadata": {
    "collapsed": false
   },
   "outputs": [],
   "source": [
    "df_departure_date_grouped = df_departure_date.groupby('sched_departure_date')"
   ]
  },
  {
   "cell_type": "code",
   "execution_count": 31,
   "metadata": {
    "collapsed": false
   },
   "outputs": [],
   "source": [
    "df_departure_date_sorted = df_departure_date['sched_departure_date'].value_counts(sort = False).sort_index()\n"
   ]
  },
  {
   "cell_type": "code",
   "execution_count": 37,
   "metadata": {
    "collapsed": false
   },
   "outputs": [
    {
     "ename": "AttributeError",
     "evalue": "'Series' object has no attribute 'columns'",
     "output_type": "error",
     "traceback": [
      "\u001b[1;31m---------------------------------------------------------------------------\u001b[0m",
      "\u001b[1;31mAttributeError\u001b[0m                            Traceback (most recent call last)",
      "\u001b[1;32m<ipython-input-37-67c55ba9251f>\u001b[0m in \u001b[0;36m<module>\u001b[1;34m()\u001b[0m\n\u001b[1;32m----> 1\u001b[1;33m \u001b[1;32mprint\u001b[0m \u001b[0mlist\u001b[0m\u001b[1;33m(\u001b[0m\u001b[0mdf_departure_date_sorted\u001b[0m\u001b[1;33m.\u001b[0m\u001b[0mcolumns\u001b[0m\u001b[1;33m.\u001b[0m\u001b[0mvalues\u001b[0m\u001b[1;33m)\u001b[0m\u001b[1;33m\u001b[0m\u001b[0m\n\u001b[0m",
      "\u001b[1;32mC:\\Users\\Ladislav\\AppData\\Local\\Enthought\\Canopy\\User\\lib\\site-packages\\pandas\\core\\generic.pyc\u001b[0m in \u001b[0;36m__getattr__\u001b[1;34m(self, name)\u001b[0m\n\u001b[0;32m   2663\u001b[0m         if (name in self._internal_names_set or name in self._metadata or\n\u001b[0;32m   2664\u001b[0m                 name in self._accessors):\n\u001b[1;32m-> 2665\u001b[1;33m             \u001b[1;32mreturn\u001b[0m \u001b[0mobject\u001b[0m\u001b[1;33m.\u001b[0m\u001b[0m__getattribute__\u001b[0m\u001b[1;33m(\u001b[0m\u001b[0mself\u001b[0m\u001b[1;33m,\u001b[0m \u001b[0mname\u001b[0m\u001b[1;33m)\u001b[0m\u001b[1;33m\u001b[0m\u001b[0m\n\u001b[0m\u001b[0;32m   2666\u001b[0m         \u001b[1;32melse\u001b[0m\u001b[1;33m:\u001b[0m\u001b[1;33m\u001b[0m\u001b[0m\n\u001b[0;32m   2667\u001b[0m             \u001b[1;32mif\u001b[0m \u001b[0mname\u001b[0m \u001b[1;32min\u001b[0m \u001b[0mself\u001b[0m\u001b[1;33m.\u001b[0m\u001b[0m_info_axis\u001b[0m\u001b[1;33m:\u001b[0m\u001b[1;33m\u001b[0m\u001b[0m\n",
      "\u001b[1;31mAttributeError\u001b[0m: 'Series' object has no attribute 'columns'"
     ]
    }
   ],
   "source": [
    "print list(df_departure_date_sorted.columns.values)\n"
   ]
  },
  {
   "cell_type": "markdown",
   "metadata": {},
   "source": [
    "Graf poctu letu/den pro vsechny letiste"
   ]
  },
  {
   "cell_type": "code",
   "execution_count": 51,
   "metadata": {
    "collapsed": false
   },
   "outputs": [
    {
     "data": {
      "text/plain": [
       "<matplotlib.axes._subplots.AxesSubplot at 0x115b8908>"
      ]
     },
     "execution_count": 51,
     "metadata": {},
     "output_type": "execute_result"
    },
    {
     "data": {
      "image/png": "[encoded data removed]",
      "text/plain": [
       "<matplotlib.figure.Figure at 0x116211d0>"
      ]
     },
     "metadata": {},
     "output_type": "display_data"
    }
   ],
   "source": [
    "df_departure_date_sorted.plot(kind='bar',figsize =[25,5], title = 'Number of flights in time')\n"
   ]
  },
  {
   "cell_type": "code",
   "execution_count": 50,
   "metadata": {
    "collapsed": false
   },
   "outputs": [
    {
     "data": {
      "text/plain": [
       "<matplotlib.axes._subplots.AxesSubplot at 0x108c6b38>"
      ]
     },
     "execution_count": 50,
     "metadata": {},
     "output_type": "execute_result"
    },
    {
     "data": {
      "image/png": "[encoded data removed]",
      "text/plain": [
       "<matplotlib.figure.Figure at 0x10825710>"
      ]
     },
     "metadata": {},
     "output_type": "display_data"
    }
   ],
   "source": []
  }
 ],
 "metadata": {
  "kernelspec": {
   "display_name": "Python 2",
   "language": "python",
   "name": "python2"
  },
  "language_info": {
   "codemirror_mode": {
    "name": "ipython",
    "version": 2
   },
   "file_extension": ".py",
   "mimetype": "text/x-python",
   "name": "python",
   "nbconvert_exporter": "python",
   "pygments_lexer": "ipython2",
   "version": "2.7.11"
  }
 },
 "nbformat": 4,
 "nbformat_minor": 0
}
